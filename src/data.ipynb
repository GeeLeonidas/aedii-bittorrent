{
 "cells": [
  {
   "cell_type": "code",
   "execution_count": null,
   "metadata": {},
   "outputs": [],
   "source": [
    "import threading as thr\n",
    "import node as nd\n",
    "import filechunk as fc\n",
    "import numpy as np\n",
    "import time\n",
    "\n",
    "import matplotlib.pyplot as plt\n",
    "%matplotlib inline\n",
    "\n",
    "BASE_PORT = 30000\n",
    "PATH = '/home/gee/Documents/Projetcs/aedii-bittorrent/music'\n",
    "SONG = 'SalmonLikeTheFish - Zion.mp3'\n",
    "X = list(range(2, 61, 1))"
   ]
  },
  {
   "cell_type": "code",
   "execution_count": null,
   "metadata": {},
   "outputs": [],
   "source": [
    "nodes = []\n",
    "threads = []\n",
    "\n",
    "for i in range(X[-1]):\n",
    "    nodes.append(nd.Node(('127.0.0.1', BASE_PORT+i)))\n",
    "    threads.append(thr.Thread(target=nodes[i].listen))\n",
    "\n",
    "y_1 = []\n",
    "for i in range(len(X)):\n",
    "    for j in range(X[i]):\n",
    "        threads[j].start()\n",
    "        while nodes[j].id == None:\n",
    "            time.sleep(5e-3)\n",
    "    \n",
    "    for j in range(1, X[i]):\n",
    "        nodes[j].enter_dht(nodes[0].addr)\n",
    "    \n",
    "    fc.add_file(PATH, SONG, [nodes[k].addr for k in range(X[i])])\n",
    "    chunk_count = [len(node.dict) for node in nodes]\n",
    "    y_1.append(np.std(chunk_count))\n",
    "    \n",
    "    for j in range(X[i]):\n",
    "        nodes[j].alive = False\n",
    "    for j in range(X[i]):\n",
    "        threads[j].join()\n",
    "\n",
    "    for j in range(X[i]):\n",
    "        addr = nodes[j].addr\n",
    "        nodes[j] = nd.Node(addr)\n",
    "        threads[j] = thr.Thread(target=nodes[j].listen)"
   ]
  },
  {
   "cell_type": "code",
   "execution_count": null,
   "metadata": {},
   "outputs": [],
   "source": [
    "import pandas as pd\n",
    "\n",
    "df = pd.DataFrame()\n",
    "df.index = X\n",
    "df['Desvio Padrão'] = y_1"
   ]
  },
  {
   "cell_type": "code",
   "execution_count": null,
   "metadata": {},
   "outputs": [],
   "source": [
    "nodes = []\n",
    "threads = []\n",
    "\n",
    "for i in range(X[-1]):\n",
    "    nodes.append(nd.Node(('127.0.0.1', BASE_PORT+100+i)))\n",
    "    threads.append(thr.Thread(target=nodes[i].listen))\n",
    "\n",
    "y_3 = []\n",
    "for i in range(len(X)):\n",
    "    for j in range(X[i]):\n",
    "        threads[j].start()\n",
    "        while nodes[j].id == None:\n",
    "            time.sleep(5e-3)\n",
    "    \n",
    "    for j in range(1, X[i]):\n",
    "        nodes[j].enter_dht(nodes[0].addr)\n",
    "    \n",
    "    fc.add_file(PATH, SONG, [nodes[k].addr for k in range(X[i])])\n",
    "    byte_count = [node.bytes_recv for node in nodes]\n",
    "    y_3.append(np.sum(byte_count))\n",
    "    \n",
    "    for j in range(X[i]):\n",
    "        nodes[j].alive = False\n",
    "    for j in range(X[i]):\n",
    "        threads[j].join()\n",
    "\n",
    "    for j in range(X[i]):\n",
    "        addr = nodes[j].addr\n",
    "        nodes[j] = nd.Node(addr)\n",
    "        threads[j] = thr.Thread(target=nodes[j].listen)"
   ]
  },
  {
   "cell_type": "code",
   "execution_count": null,
   "metadata": {},
   "outputs": [],
   "source": [
    "df['Transferência Total'] = y_3\n",
    "df.to_csv('~/Desktop/exp-1-3.csv', encoding='utf-8')"
   ]
  },
  {
   "cell_type": "code",
   "execution_count": null,
   "metadata": {},
   "outputs": [],
   "source": [
    "X_CHUNK = list(range(1 << 12, (1 << 18) + 1, 1 << 12))\n",
    "\n",
    "nodes = [nd.Node(('127.0.0.1', BASE_PORT+1000+i)) for i in range(60)]\n",
    "threads = [thr.Thread(target=node.listen) for node in nodes]\n",
    "\n",
    "y_2 = []\n",
    "for chunk_size in X_CHUNK:\n",
    "    fc.CHUNK_SIZE = chunk_size\n",
    "    for i in range(len(threads)):\n",
    "        threads[i].start()\n",
    "        while nodes[i].id == None:\n",
    "            time.sleep(5e-3)\n",
    "\n",
    "    fc.add_file(PATH, SONG, [node.addr for node in nodes])\n",
    "    chunk_count = [len(node.dict) for node in nodes]\n",
    "    y_2.append(np.std(chunk_count))\n",
    "\n",
    "    for node in nodes:\n",
    "        node.alive = False\n",
    "    for thread in threads:\n",
    "        thread.join()\n",
    "\n",
    "    for i in range(len(nodes)):\n",
    "        addr = nodes[i].addr\n",
    "        nodes[i] = nd.Node(addr)\n",
    "        threads[i] = thr.Thread(target=nodes[i].listen)"
   ]
  },
  {
   "cell_type": "code",
   "execution_count": null,
   "metadata": {},
   "outputs": [],
   "source": [
    "df_2 = pd.DataFrame()\n",
    "df_2.index = X_CHUNK\n",
    "df_2['Desvio Padrão'] = y_2\n",
    "\n",
    "df_2.to_csv('~/Desktop/exp-2.csv', encoding='utf-8')"
   ]
  }
 ],
 "metadata": {
  "kernelspec": {
   "display_name": "Python 3.10.8 64-bit",
   "language": "python",
   "name": "python3"
  },
  "language_info": {
   "codemirror_mode": {
    "name": "ipython",
    "version": 3
   },
   "file_extension": ".py",
   "mimetype": "text/x-python",
   "name": "python",
   "nbconvert_exporter": "python",
   "pygments_lexer": "ipython3",
   "version": "3.10.8"
  },
  "orig_nbformat": 4,
  "vscode": {
   "interpreter": {
    "hash": "916dbcbb3f70747c44a77c7bcd40155683ae19c65e1c03b4aa3499c5328201f1"
   }
  }
 },
 "nbformat": 4,
 "nbformat_minor": 2
}
